{
 "cells": [
  {
   "cell_type": "code",
   "execution_count": 1,
   "id": "30f18e4b-17c3-4b04-abfd-1af1f682666d",
   "metadata": {},
   "outputs": [],
   "source": [
    "from typing import Callable, Tuple\n",
    "from finite_distributions.FiniteDistribution import FiniteDistribution\n",
    "import numpy as np\n",
    "import matplotlib.pyplot as plt\n",
    "import seaborn as sns\n",
    "import sinkhorn.SinkhornRunner as SinkhornRunner\n",
    "import sinkhorn.SinkhornKernels as skern\n",
    "import visualizer.joint_distribution_visualizer as jdv"
   ]
  },
  {
   "cell_type": "code",
   "execution_count": 2,
   "id": "a8167698-5f4c-4430-b21c-91637c7d164d",
   "metadata": {},
   "outputs": [],
   "source": [
    "def gaussian_prob(mu: float, sigma: float, x: float):\n",
    "    return np.exp(-(x - mu)**2 / (2 * sigma * sigma))"
   ]
  },
  {
   "cell_type": "code",
   "execution_count": 3,
   "id": "c8e945d6-77a6-4562-a5fb-4f1702887811",
   "metadata": {},
   "outputs": [],
   "source": [
    "mu_1 = -0.0\n",
    "sigma_1 = 1.0\n",
    "\n",
    "mu_2 = 0.0\n",
    "sigma_2 = np.sqrt(2)"
   ]
  },
  {
   "cell_type": "code",
   "execution_count": 4,
   "id": "10574f75-bbf2-4b63-b948-27451c672f0c",
   "metadata": {},
   "outputs": [],
   "source": [
    "xs = [round(x, 5) for x in np.linspace(-5, 5, 25)]"
   ]
  },
  {
   "cell_type": "code",
   "execution_count": 5,
   "id": "eacd29e0-5d8e-42ac-ad41-eb48829b6a1a",
   "metadata": {},
   "outputs": [],
   "source": [
    "s1 = np.sum([gaussian_prob(mu_1, sigma_1, x) for x in xs])\n",
    "s2 = np.sum([gaussian_prob(mu_2, sigma_2, x) for x in xs])\n",
    "\n",
    "dist_1 = FiniteDistribution({x: gaussian_prob(mu_1, sigma_1, x) / s1 for x in xs})\n",
    "dist_2 = FiniteDistribution({x: gaussian_prob(mu_2, sigma_2, x) / s2 for x in xs})\n",
    "\n",
    "product_distribution = dist_1.productDistribution(dist_2)"
   ]
  },
  {
   "cell_type": "code",
   "execution_count": 6,
   "id": "2ae83451",
   "metadata": {},
   "outputs": [],
   "source": [
    "c = lambda x, y: 0.5 * (x - y)**2"
   ]
  },
  {
   "cell_type": "code",
   "execution_count": 34,
   "id": "e1e1cfc8-fb18-4d30-9176-e506af7bcee1",
   "metadata": {
    "scrolled": true
   },
   "outputs": [],
   "source": [
    "# p-norm\n",
    "p = 6.\n",
    "sinkhorn_runner = skern.get_pnorm_regularized_runner(p, c)\n",
    "# entropic\n",
    "sinkhorn_runner_entropic = skern.get_entropically_regularized_runner(c)\n",
    "\n",
    "\n",
    "epsilons = np.linspace(0.1, 2., 20)\n",
    "maps = {}\n",
    "for epsilon in epsilons:\n",
    "    delta = 0.01\n",
    "    pi_p, f_p, g_p = sinkhorn_runner.run_sinkhorn(dist_1, dist_2, epsilon, delta)\n",
    "\n",
    "    maps[epsilon] = (pi_p, f_p, g_p)\n",
    "# pi_e, f_e, g_e = sinkhorn_runner_entropic.run_sinkhorn(dist_1, dist_2, epsilon, delta)"
   ]
  },
  {
   "cell_type": "code",
   "execution_count": 35,
   "id": "75a39797",
   "metadata": {},
   "outputs": [],
   "source": [
    "q = p / (p - 1)\n",
    "\n",
    "avgs = []\n",
    "for epsilon in epsilons:\n",
    "    (pi, f, g) = maps[epsilon]\n",
    "    # regularizer = lambda tup: epsilon * np.power((f[tup[0]] + g[tup[1]] - c(tup[0], tup[1]))/epsilon, q) / q\n",
    "    coupled_term = lambda tup: c(tup[0], tup[1]) * np.power(np.max((f[tup[0]] + g[tup[1]] - c(tup[0], tup[1]), 0))/epsilon, q - 1) / q\n",
    "    value = product_distribution.integrate(coupled_term)\n",
    "    avgs.append(value)"
   ]
  },
  {
   "cell_type": "code",
   "execution_count": 36,
   "id": "3586a096",
   "metadata": {},
   "outputs": [
    {
     "data": {
      "image/png": "[encoded data removed]",
      "text/plain": [
       "<Figure size 640x480 with 1 Axes>"
      ]
     },
     "metadata": {},
     "output_type": "display_data"
    }
   ],
   "source": [
    "plt.figure()\n",
    "plt.plot(epsilons, np.array(avgs))\n",
    "plt.show()"
   ]
  },
  {
   "cell_type": "code",
   "execution_count": null,
   "id": "7ed57974",
   "metadata": {},
   "outputs": [],
   "source": []
  }
 ],
 "metadata": {
  "kernelspec": {
   "display_name": "Python 3",
   "language": "python",
   "name": "python3"
  },
  "language_info": {
   "codemirror_mode": {
    "name": "ipython",
    "version": 3
   },
   "file_extension": ".py",
   "mimetype": "text/x-python",
   "name": "python",
   "nbconvert_exporter": "python",
   "pygments_lexer": "ipython3",
   "version": "3.12.6"
  }
 },
 "nbformat": 4,
 "nbformat_minor": 5
}
