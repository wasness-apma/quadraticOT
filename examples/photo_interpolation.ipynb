{
 "cells": [
  {
   "cell_type": "code",
   "execution_count": 1,
   "id": "30f18e4b-17c3-4b04-abfd-1af1f682666d",
   "metadata": {},
   "outputs": [],
   "source": [
    "from typing import Callable, Tuple\n",
    "from finite_distributions.FiniteDistribution import FiniteDistribution\n",
    "import numpy as np\n",
    "import matplotlib.pyplot as plt\n",
    "import seaborn as sns\n",
    "import sinkhorn.SinkhornRunner as SinkhornRunner\n",
    "import sinkhorn.SinkhornKernels as skern\n",
    "import visualizer.joint_distribution_visualizer as jdv\n",
    "\n",
    "from core.require import require\n",
    "\n",
    "from PIL import Image, ImageDraw"
   ]
  },
  {
   "cell_type": "code",
   "execution_count": 2,
   "id": "56150865",
   "metadata": {},
   "outputs": [],
   "source": [
    "# Load the image (convert to grayscale or keep RGB depending on your need)\n",
    "img_1 = Image.open(\"images/white_circle_on_black.png\").convert(\"L\")  # Use \"RGB\" if you want color\n",
    "img_2 = Image.open(\"images/white_square_on_black.png\").convert(\"L\")  # Use \"RGB\" if you want color\n",
    "\n",
    "# Convert to NumPy array\n",
    "img_1_array = np.array(img_1)/255\n",
    "img_2_array = np.array(img_2)/255\n",
    "\n",
    "require(img_1_array.shape == img_2_array.shape)\n",
    "require(len(img_1_array.shape) == 2)\n",
    "\n",
    "rows = img_1_array.shape[0]\n",
    "cols = img_1_array.shape[1]\n",
    "require(rows == cols)\n",
    "\n",
    "keys = [(x, y) for x in range(rows) for y in range(cols)]\n",
    "\n",
    "np.array([[1, 2]]).shape\n",
    "\n",
    "# create distributions\n",
    "__sum_1 = img_1_array.sum()\n",
    "# img_1_distribution = FiniteDistribution({rows * x + y: img_1_array[x][y]/__sum_1 for (x, y) in keys})\n",
    "img_1_distribution = FiniteDistribution({(x, y): img_1_array[x][y]/__sum_1 for (x, y) in keys})\n",
    "\n",
    "__sum_2 = img_2_array.sum()\n",
    "# img_2_distribution = FiniteDistribution({rows * x + y: img_2_array[x][y]/__sum_2 for (x, y) in keys})\n",
    "img_2_distribution = FiniteDistribution({(x, y): img_2_array[x][y]/__sum_2 for (x, y) in keys})"
   ]
  },
  {
   "cell_type": "code",
   "execution_count": 3,
   "id": "be9918f6-3383-4143-ac47-e71c2fc00999",
   "metadata": {},
   "outputs": [],
   "source": [
    "c = lambda x, y: (x[0] - y[0])**2 + (x[1] - y[1])**2"
   ]
  },
  {
   "cell_type": "code",
   "execution_count": 4,
   "id": "e1e1cfc8-fb18-4d30-9176-e506af7bcee1",
   "metadata": {
    "scrolled": true
   },
   "outputs": [
    {
     "name": "stdout",
     "output_type": "stream",
     "text": [
      "Running quadratic.\n"
     ]
    },
    {
     "ename": "KeyboardInterrupt",
     "evalue": "",
     "output_type": "error",
     "traceback": [
      "\u001b[0;31m---------------------------------------------------------------------------\u001b[0m",
      "\u001b[0;31mKeyboardInterrupt\u001b[0m                         Traceback (most recent call last)",
      "Cell \u001b[0;32mIn[4], line 12\u001b[0m\n\u001b[1;32m      9\u001b[0m delta \u001b[38;5;241m=\u001b[39m \u001b[38;5;241m0.1\u001b[39m\n\u001b[1;32m     11\u001b[0m \u001b[38;5;28mprint\u001b[39m(\u001b[38;5;124m\"\u001b[39m\u001b[38;5;124mRunning quadratic.\u001b[39m\u001b[38;5;124m\"\u001b[39m)\n\u001b[0;32m---> 12\u001b[0m pi_p, f_p, g_p, inner_p, outer_p \u001b[38;5;241m=\u001b[39m \u001b[43msinkhorn_runner\u001b[49m\u001b[38;5;241;43m.\u001b[39;49m\u001b[43mrun_sinkhorn\u001b[49m\u001b[43m(\u001b[49m\u001b[43mimg_1_distribution\u001b[49m\u001b[43m,\u001b[49m\u001b[43m \u001b[49m\u001b[43mimg_2_distribution\u001b[49m\u001b[43m,\u001b[49m\u001b[43m \u001b[49m\u001b[43mepsilon\u001b[49m\u001b[43m,\u001b[49m\u001b[43m \u001b[49m\u001b[43mdelta\u001b[49m\u001b[43m,\u001b[49m\u001b[43m \u001b[49m\u001b[43mdual_potential_precision_mult\u001b[49m\u001b[43m \u001b[49m\u001b[38;5;241;43m=\u001b[39;49m\u001b[43m \u001b[49m\u001b[38;5;241;43m0.5\u001b[39;49m\u001b[43m)\u001b[49m\n\u001b[1;32m     13\u001b[0m \u001b[38;5;28mprint\u001b[39m(\u001b[38;5;124mf\u001b[39m\u001b[38;5;124m\"\u001b[39m\u001b[38;5;124mRan quadratic. Took \u001b[39m\u001b[38;5;132;01m{\u001b[39;00mouter_p\u001b[38;5;132;01m}\u001b[39;00m\u001b[38;5;124m outer iterations.\u001b[39m\u001b[38;5;124m\"\u001b[39m)\n\u001b[1;32m     14\u001b[0m \u001b[38;5;66;03m# print(\"Running entropic.\")\u001b[39;00m\n\u001b[1;32m     15\u001b[0m \u001b[38;5;66;03m# pi_e, f_e, g_e, inner_e, outer_e = sinkhorn_runner_entropic.run_sinkhorn(img_1_distribution, img_2_distribution, epsilon, delta)\u001b[39;00m\n\u001b[1;32m     16\u001b[0m \u001b[38;5;66;03m# print(f\"Ran entropic. Took {outer_e} outer iterations.\")\u001b[39;00m\n",
      "File \u001b[0;32m~/Desktop/Everything_Academic/research/quadratic_ot/quadraticOT/sinkhorn/SinkhornRunner.py:36\u001b[0m, in \u001b[0;36mSinkhornRunner.run_sinkhorn\u001b[0;34m(self, rho1, rho2, epsilon, precisionDelta, dual_potential_precision_mult, max_iterations)\u001b[0m\n\u001b[1;32m     34\u001b[0m outer_iterations \u001b[38;5;241m+\u001b[39m\u001b[38;5;241m=\u001b[39m \u001b[38;5;241m1\u001b[39m\n\u001b[1;32m     35\u001b[0m \u001b[38;5;66;03m# print(f\"Prior outer iterations: {outer_iterations}. inner iterations: {total_search_iterations}.\")\u001b[39;00m\n\u001b[0;32m---> 36\u001b[0m g, additional_iterations_g \u001b[38;5;241m=\u001b[39m \u001b[38;5;28;43mself\u001b[39;49m\u001b[38;5;241;43m.\u001b[39;49m\u001b[43mcalculate_dual_potential\u001b[49m\u001b[43m(\u001b[49m\u001b[43mrho1\u001b[49m\u001b[43m,\u001b[49m\u001b[43m \u001b[49m\u001b[43mf\u001b[49m\u001b[43m,\u001b[49m\u001b[43m \u001b[49m\u001b[43mrho2\u001b[49m\u001b[38;5;241;43m.\u001b[39;49m\u001b[43mget_keys\u001b[49m\u001b[43m(\u001b[49m\u001b[43m)\u001b[49m\u001b[43m,\u001b[49m\u001b[43m \u001b[49m\u001b[38;5;28;43mself\u001b[39;49m\u001b[38;5;241;43m.\u001b[39;49m\u001b[43mcost\u001b[49m\u001b[43m,\u001b[49m\u001b[43m \u001b[49m\u001b[43mepsilon\u001b[49m\u001b[43m,\u001b[49m\u001b[43m \u001b[49m\u001b[43mprecisionDelta\u001b[49m\u001b[43m \u001b[49m\u001b[38;5;241;43m*\u001b[39;49m\u001b[43m \u001b[49m\u001b[43mdual_potential_precision_mult\u001b[49m\u001b[43m)\u001b[49m\n\u001b[1;32m     37\u001b[0m \u001b[38;5;66;03m# print(f\"Iterations for g: {additional_iterations_g}\")\u001b[39;00m\n\u001b[1;32m     38\u001b[0m f, additional_iterations_f \u001b[38;5;241m=\u001b[39m \u001b[38;5;28mself\u001b[39m\u001b[38;5;241m.\u001b[39mcalculate_dual_potential(rho2, g, rho1\u001b[38;5;241m.\u001b[39mget_keys(), flippedCostMapping, epsilon, precisionDelta \u001b[38;5;241m*\u001b[39m dual_potential_precision_mult)\n",
      "File \u001b[0;32m~/Desktop/Everything_Academic/research/quadratic_ot/quadraticOT/sinkhorn/SinkhornRunner.py:78\u001b[0m, in \u001b[0;36mSinkhornRunner.calculate_dual_potential\u001b[0;34m(self, rho, potential, dualKeys, orderedCost, epsilon, dualPrecisionDelta)\u001b[0m\n\u001b[1;32m     76\u001b[0m     lb \u001b[38;5;241m=\u001b[39m lb \u001b[38;5;241m*\u001b[39m \u001b[38;5;241m2\u001b[39m\n\u001b[1;32m     77\u001b[0m     total_iterations \u001b[38;5;241m+\u001b[39m\u001b[38;5;241m=\u001b[39m \u001b[38;5;241m1\u001b[39m\n\u001b[0;32m---> 78\u001b[0m \u001b[38;5;28;01mwhile\u001b[39;00m \u001b[43mcalculateSumForKey\u001b[49m\u001b[43m(\u001b[49m\u001b[43mdualKey\u001b[49m\u001b[43m,\u001b[49m\u001b[43m \u001b[49m\u001b[43mub\u001b[49m\u001b[43m)\u001b[49m \u001b[38;5;241m<\u001b[39m \u001b[38;5;241m1.1\u001b[39m:\n\u001b[1;32m     79\u001b[0m     \u001b[38;5;66;03m# print(f\"UB {ub} too small\")\u001b[39;00m\n\u001b[1;32m     80\u001b[0m     ub \u001b[38;5;241m=\u001b[39m ub \u001b[38;5;241m*\u001b[39m \u001b[38;5;241m2\u001b[39m\n\u001b[1;32m     81\u001b[0m     total_iterations \u001b[38;5;241m+\u001b[39m\u001b[38;5;241m=\u001b[39m \u001b[38;5;241m1\u001b[39m\n",
      "File \u001b[0;32m~/Desktop/Everything_Academic/research/quadratic_ot/quadraticOT/sinkhorn/SinkhornRunner.py:66\u001b[0m, in \u001b[0;36mSinkhornRunner.calculate_dual_potential.<locals>.calculateSumForKey\u001b[0;34m(dualKey, testValue)\u001b[0m\n\u001b[1;32m     64\u001b[0m \u001b[38;5;28;01mdef\u001b[39;00m \u001b[38;5;21mcalculateSumForKey\u001b[39m(dualKey: Any, testValue: \u001b[38;5;28mfloat\u001b[39m):\n\u001b[1;32m     65\u001b[0m     \u001b[38;5;28;01mreturn\u001b[39;00m np\u001b[38;5;241m.\u001b[39msum(\n\u001b[0;32m---> 66\u001b[0m         [\u001b[38;5;28mself\u001b[39m\u001b[38;5;241m.\u001b[39mPsiPrime((potential[primalKey] \u001b[38;5;241m+\u001b[39m testValue \u001b[38;5;241m-\u001b[39m orderedCost(primalKey, dualKey)) \u001b[38;5;241m/\u001b[39m epsilon) \u001b[38;5;241m*\u001b[39m \u001b[43mrho\u001b[49m\u001b[38;5;241;43m.\u001b[39;49m\u001b[43mget_probability\u001b[49m\u001b[43m(\u001b[49m\u001b[43mprimalKey\u001b[49m\u001b[43m)\u001b[49m \u001b[38;5;28;01mfor\u001b[39;00m primalKey \u001b[38;5;129;01min\u001b[39;00m primalKeys]\n\u001b[1;32m     67\u001b[0m     )\n",
      "File \u001b[0;32m~/Desktop/Everything_Academic/research/quadratic_ot/quadraticOT/finite_distributions/FiniteDistribution.py:24\u001b[0m, in \u001b[0;36mFiniteDistribution.get_probability\u001b[0;34m(self, key)\u001b[0m\n\u001b[1;32m     23\u001b[0m \u001b[38;5;28;01mdef\u001b[39;00m \u001b[38;5;21mget_probability\u001b[39m(\u001b[38;5;28mself\u001b[39m, key: Any):\n\u001b[0;32m---> 24\u001b[0m     require(key \u001b[38;5;129;01min\u001b[39;00m \u001b[38;5;28mself\u001b[39m\u001b[38;5;241m.\u001b[39melementMapping, \u001b[38;5;124mf\u001b[39m\u001b[38;5;124m\"\u001b[39m\u001b[38;5;124mFound invalid key \u001b[39m\u001b[38;5;132;01m{\u001b[39;00mkey\u001b[38;5;132;01m}\u001b[39;00m\u001b[38;5;124m. Valid keys: f\u001b[39m\u001b[38;5;132;43;01m{\u001b[39;49;00m\u001b[38;5;28;43mlist\u001b[39;49m\u001b[43m(\u001b[49m\u001b[38;5;28;43mself\u001b[39;49m\u001b[38;5;241;43m.\u001b[39;49m\u001b[43melementMapping\u001b[49m\u001b[38;5;241;43m.\u001b[39;49m\u001b[43mkeys\u001b[49m\u001b[43m(\u001b[49m\u001b[43m)\u001b[49m\u001b[43m)\u001b[49m\u001b[38;5;132;43;01m}\u001b[39;49;00m\u001b[38;5;124m\"\u001b[39m)\n\u001b[1;32m     25\u001b[0m     \u001b[38;5;28;01mreturn\u001b[39;00m \u001b[38;5;28mself\u001b[39m\u001b[38;5;241m.\u001b[39melementMapping[key]\n",
      "\u001b[0;31mKeyboardInterrupt\u001b[0m: "
     ]
    }
   ],
   "source": [
    "# p-norm\n",
    "p = 2.\n",
    "sinkhorn_runner = skern.get_pnorm_regularized_runner(p, c)\n",
    "# entropic\n",
    "sinkhorn_runner_entropic = skern.get_entropically_regularized_runner(c)\n",
    "\n",
    "\n",
    "epsilon = 1.0\n",
    "delta = 0.1\n",
    "\n",
    "print(\"Running quadratic.\")\n",
    "pi_p, f_p, g_p, inner_p, outer_p = sinkhorn_runner.run_sinkhorn(img_1_distribution, img_2_distribution, epsilon, delta, dual_potential_precision_mult = 0.5)\n",
    "print(f\"Ran quadratic. Took {outer_p} outer iterations.\")\n",
    "# print(\"Running entropic.\")\n",
    "# pi_e, f_e, g_e, inner_e, outer_e = sinkhorn_runner_entropic.run_sinkhorn(img_1_distribution, img_2_distribution, epsilon, delta)\n",
    "# print(f\"Ran entropic. Took {outer_e} outer iterations.\")"
   ]
  },
  {
   "cell_type": "code",
   "execution_count": null,
   "id": "4bdab1ba-397e-4456-9117-87e3fcc6a514",
   "metadata": {},
   "outputs": [],
   "source": [
    "# interpolate two images geodesically\n",
    "composite_img_array = np.zeros(img_1_array.shape)\n",
    "for key in pi_p.keys():\n",
    "    (x0, y0) = key[0]\n",
    "    (x1, y1) = key[1] \n",
    "    composite_key = (0.5 * (x0 + x1), 0.5 * (y0 + y1))\n",
    "    rounded_key = (int(composite_key[0] * rows), int(composite_key[1] * rows))\n",
    "    composite_img_array[rounded_key[0], rounded_key[1]] += pi_p.get_probability(key)\n",
    "\n",
    "composite_img = Image.fromarray(composite_img_array.astype(np.uint8))  # Convert to uint8 for image format\n",
    "\n",
    "# Show the image\n",
    "composite_img.show()\n",
    "\n",
    "# Optionally, save the image\n",
    "composite_img.save(\"images/composite_img_p.png\")"
   ]
  },
  {
   "cell_type": "code",
   "execution_count": null,
   "id": "fdeb9be5",
   "metadata": {},
   "outputs": [],
   "source": []
  }
 ],
 "metadata": {
  "kernelspec": {
   "display_name": "Python 3",
   "language": "python",
   "name": "python3"
  },
  "language_info": {
   "codemirror_mode": {
    "name": "ipython",
    "version": 3
   },
   "file_extension": ".py",
   "mimetype": "text/x-python",
   "name": "python",
   "nbconvert_exporter": "python",
   "pygments_lexer": "ipython3",
   "version": "3.12.6"
  }
 },
 "nbformat": 4,
 "nbformat_minor": 5
}
